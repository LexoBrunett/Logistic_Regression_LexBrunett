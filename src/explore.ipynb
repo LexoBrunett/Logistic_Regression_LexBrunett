{
 "cells": [
  {
   "cell_type": "markdown",
   "metadata": {},
   "source": [
    "# Explore here"
   ]
  },
  {
   "cell_type": "code",
   "execution_count": null,
   "metadata": {},
   "outputs": [
    {
     "ename": "",
     "evalue": "",
     "output_type": "error",
     "traceback": [
      "\u001b[1;31mRunning cells with 'Python 3.12.7' requires the ipykernel package.\n",
      "\u001b[1;31mRun the following command to install 'ipykernel' into the Python environment. \n",
      "\u001b[1;31mCommand: '/usr/bin/python -m pip install ipykernel -U --user --force-reinstall'"
     ]
    }
   ],
   "source": [
    "import pandas as pd\n",
    "\n",
    "bank_data = pd.read_csv(\"https://raw.githubusercontent.com/4GeeksAcademy/logistic-regression-project-tutorial/main/bank-marketing-campaign-data.csv\", sep = \";\")\n",
    "bank_data = bank_data.drop_duplicates().reset_index(drop = True)\n",
    "bank_data.head(20)\n",
    "\n",
    "#Null information\n",
    "bank_data.isnull().sum()\n",
    "\n",
    "# Min-Max scaler\n",
    "\n",
    "from sklearn.preprocessing import MinMaxScaler\n",
    "\n",
    "bank_data[\"job_n\"] = pd.factorize(bank_data[\"job\"])[0]\n",
    "bank_data[\"marital_n\"] = pd.factorize(bank_data[\"marital\"])[0]\n",
    "bank_data[\"education_n\"] = pd.factorize(bank_data[\"education\"])[0]\n",
    "bank_data[\"default_n\"] = pd.factorize(bank_data[\"default\"])[0]\n",
    "bank_data[\"housing_n\"] = pd.factorize(bank_data[\"housing\"])[0]\n",
    "bank_data[\"loan_n\"] = pd.factorize(bank_data[\"loan\"])[0]\n",
    "bank_data[\"contact_n\"] = pd.factorize(bank_data[\"contact\"])[0]\n",
    "bank_data[\"month_n\"] = pd.factorize(bank_data[\"month\"])[0]\n",
    "bank_data[\"day_of_week_n\"] = pd.factorize(bank_data[\"day_of_week\"])[0]\n",
    "bank_data[\"poutcome_n\"] = pd.factorize(bank_data[\"poutcome\"])[0]\n",
    "bank_data[\"y_n\"] = pd.factorize(bank_data[\"y\"])[0]\n",
    "num_variables = [\"job_n\", \"marital_n\", \"education_n\", \"default_n\", \"housing_n\", \"loan_n\", \"contact_n\", \"month_n\", \"day_of_week_n\", \"poutcome_n\",\n",
    "                 \"age\", \"duration\", \"campaign\", \"pdays\", \"previous\", \"emp.var.rate\", \"cons.price.idx\", \"cons.conf.idx\", \"euribor3m\", \"nr.employed\", \"y_n\"]\n",
    "\n",
    "scaler = MinMaxScaler()\n",
    "scal_features = scaler.fit_transform(bank_data[num_variables])\n",
    "bank_data_scal = pd.DataFrame(scal_features, index = bank_data.index, columns = num_variables)\n",
    "bank_data_scal.head()\n",
    "\n",
    "# Feature selection\n",
    "\n",
    "from sklearn.feature_selection import chi2, SelectKBest\n",
    "from sklearn.model_selection import train_test_split\n",
    "\n",
    "X = bank_data_scal.drop(\"y_n\", axis = 1)\n",
    "y = bank_data_scal[\"y_n\"]\n",
    "\n",
    "X_train, X_test, y_train, y_test = train_test_split(X, y, test_size = 0.1, random_state = 42)\n",
    "\n",
    "selection_model = SelectKBest(chi2, k = 5)\n",
    "selection_model.fit(X_train, y_train)\n",
    "ix = selection_model.get_support()\n",
    "X_train_sel = pd.DataFrame(selection_model.transform(X_train), columns = X_train.columns.values[ix])\n",
    "X_test_sel = pd.DataFrame(selection_model.transform(X_test), columns = X_test.columns.values[ix])\n",
    "\n",
    "\n",
    "X_train = X_train_sel.drop([\"y_n\"], axis = 1)\n",
    "y_train = X_train_sel[\"y_n\"]\n",
    "X_test = X_test_sel.drop([\"y_n\"], axis = 1)\n",
    "y_test = X_test_sel[\"y_n\"]\n",
    "\n",
    "from sklearn.linear_model import LogisticRegression\n",
    "\n",
    "model = LogisticRegression()\n",
    "model.fit(X_train, y_train)\n",
    "\n",
    "y_pred = model.predict(X_test)\n",
    "y_pred\n",
    "\n",
    "from sklearn.metrics import accuracy_score\n",
    "\n",
    "accuracy_score(y_test, y_pred)\n",
    "\n",
    "#optimization\n",
    "\n",
    "from sklearn.model_selection import GridSearchCV\n",
    "\n",
    "hyperparams = {\n",
    "    \"C\": [0.001, 0.01, 0.1, 1, 10, 100, 1000],\n",
    "    \"penalty\": [\"l1\", \"l2\", \"elasticnet\", None],\n",
    "    \"solver\": [\"newton-cg\", \"lbfgs\", \"liblinear\", \"sag\", \"saga\"]\n",
    "}\n",
    "\n",
    "grid = GridSearchCV(model, hyperparams, scoring = \"accuracy\", cv = 10)\n",
    "grid\n",
    "\n",
    "def warn(*args, **kwargs):\n",
    "    pass\n",
    "import warnings\n",
    "warnings.warn = warn\n",
    "\n",
    "grid.fit(X_train, y_train)\n",
    "\n",
    "print(f\"Best hyperparameters: {grid.best_params_}\")"
   ]
  }
 ],
 "metadata": {
  "kernelspec": {
   "display_name": "Python 3",
   "language": "python",
   "name": "python3"
  },
  "language_info": {
   "codemirror_mode": {
    "name": "ipython",
    "version": 3
   },
   "file_extension": ".py",
   "mimetype": "text/x-python",
   "name": "python",
   "nbconvert_exporter": "python",
   "pygments_lexer": "ipython3",
   "version": "3.12.7"
  },
  "orig_nbformat": 4
 },
 "nbformat": 4,
 "nbformat_minor": 2
}
